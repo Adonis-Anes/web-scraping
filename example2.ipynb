{
 "cells": [
  {
   "cell_type": "code",
   "execution_count": 5,
   "metadata": {},
   "outputs": [],
   "source": [
    "from main import consulta_a_palabras_relevantes"
   ]
  },
  {
   "cell_type": "code",
   "execution_count": 3,
   "metadata": {},
   "outputs": [
    {
     "name": "stdout",
     "output_type": "stream",
     "text": [
      "SCRAPEANDO PÁGINA https://www.meds.cl/lesiones-rodilla-mas-comunes-futbol/\n",
      "SCRAPEANDO PÁGINA https://www.sanitas.es/biblioteca-de-salud/Lesiones/lesion-ligamentosa/lesiones-de-rodilla-futbol\n",
      "SCRAPEANDO PÁGINA https://kidshealth.org/es/teens/runners-knee.html\n",
      "SCRAPEANDO PÁGINA https://www.mayoclinic.org/es/diseases-conditions/knee-pain/symptoms-causes/syc-20350849\n",
      "SCRAPEANDO PÁGINA https://kidshealth.org/es/teens/jumpers-knee.html\n",
      "SCRAPEANDO PÁGINA https://cuidateplus.marca.com/ejercicio-fisico/2018/06/25/-duelen-rodillas-practicar-deporte-162907.html\n",
      "SCRAPEANDO PÁGINA https://www.fisioterapia-online.com/fisiorespuestas/dolor-al-doblar-la-rodilla-limitacion-al-correr-para-jugar-futbol-que-tendre-y-que-puedo-hacer-para\n",
      "SCRAPEANDO PÁGINA https://medlineplus.gov/spanish/ency/article/000452.htm\n",
      "SCRAPEANDO PÁGINA https://www.bmc.org/es/node/131516\n",
      "SCRAPEANDO PÁGINA https://www.bupasalud.com/salud/lesiones-rodilla\n",
      "10 palabras más relevantes en todas las consultas:\n",
      " articulacion cartilago centro cirugia deporte deportes dolor ejercicio ejercicios forma\n"
     ]
    },
    {
     "name": "stderr",
     "output_type": "stream",
     "text": [
      "c:\\Aplicaciones\\Python312\\Lib\\site-packages\\sklearn\\feature_extraction\\text.py:408: UserWarning: Your stop_words may be inconsistent with your preprocessing. Tokenizing the stop words generated tokens ['afirmo', 'agrego', 'algun', 'anadio', 'aseguro', 'comento', 'configuracion', 'considero', 'dejo', 'demas', 'estara', 'explico', 'expreso', 'habian', 'habra', 'indico', 'll', 'llego', 'manifesto', 'menciono', 'ningun', 'nt', 'pais', 'podra', 'podran', 'proximos', 'quedo', 'realizo', 'senalo', 'seran', 'seria', 'tendra', 'tendran', 'tenia', 'traves', 'ultima', 'ultimas', 'ultimos', 've'] not in stop_words.\n",
      "  warnings.warn(\n"
     ]
    },
    {
     "data": {
      "text/plain": [
       "'articulacion cartilago centro cirugia deporte deportes dolor ejercicio ejercicios forma'"
      ]
     },
     "execution_count": 3,
     "metadata": {},
     "output_type": "execute_result"
    }
   ],
   "source": [
    "consulta = 'dolor rodilla izquierda fútbol'\n",
    "consulta_a_palabras_relevantes(consulta=consulta, guardar_archivos=True, id_consulta='rodilla')"
   ]
  },
  {
   "cell_type": "code",
   "execution_count": 2,
   "metadata": {},
   "outputs": [
    {
     "name": "stdout",
     "output_type": "stream",
     "text": [
      "SCRAPEANDO PÁGINA https://es.quora.com/Hay-diferencias-neurol%C3%B3gicas-entre-los-introvertidos-y-los-extrovertidos\n",
      "SCRAPEANDO PÁGINA https://www.psicologiaenmadrid.es/diferencias-entre-introversion-y-extroversion/\n",
      "SCRAPEANDO PÁGINA https://blog.rtve.es/mente/2017/03/cerebro-personas-extrovertidas-introvertidas.html\n",
      "SCRAPEANDO PÁGINA https://www.uv.es/master-psicologia-general-sanitaria-pgs/es/blog/eres-introvertido-extrovertido-1285957292035/GasetaRecerca.html?id=1285966163073\n",
      "SCRAPEANDO PÁGINA https://lamenteesmaravillosa.com/el-cerebro-de-un-introvertido-funciona-de-manera-diferente/\n",
      "SCRAPEANDO PÁGINA https://www.psychologytoday.com/es/fundamentos/extroversion\n",
      "SCRAPEANDO PÁGINA https://www.circulopsicologia.com/signos-de-las-personas-introvertidas/\n",
      "SCRAPEANDO PÁGINA http://jesusgonzalezfonseca.blogspot.com/2010/12/la-introversion-y-la-extroversion-segun.html\n",
      "SCRAPEANDO PÁGINA https://www.salud.mapfre.es/cuerpo-y-mente/psicologia/reconocer-a-una-persona-introvertida-o-extravertida/\n",
      "10 palabras más relevantes en todas las consultas:\n",
      " actividades alguien caracteristicas cerebro ejemplo energia extroversion extrovertido extrovertidos forma\n"
     ]
    },
    {
     "name": "stderr",
     "output_type": "stream",
     "text": [
      "c:\\Aplicaciones\\Python312\\Lib\\site-packages\\sklearn\\feature_extraction\\text.py:408: UserWarning: Your stop_words may be inconsistent with your preprocessing. Tokenizing the stop words generated tokens ['afirmo', 'agrego', 'algun', 'anadio', 'aseguro', 'comento', 'configuracion', 'considero', 'dejo', 'demas', 'estara', 'explico', 'expreso', 'habian', 'habra', 'indico', 'll', 'llego', 'manifesto', 'menciono', 'ningun', 'nt', 'pais', 'podra', 'podran', 'proximos', 'quedo', 'realizo', 'senalo', 'seran', 'seria', 'tendra', 'tendran', 'tenia', 'traves', 'ultima', 'ultimas', 'ultimos', 've'] not in stop_words.\n",
      "  warnings.warn(\n"
     ]
    },
    {
     "data": {
      "text/plain": [
       "'actividades alguien caracteristicas cerebro ejemplo energia extroversion extrovertido extrovertidos forma'"
      ]
     },
     "execution_count": 2,
     "metadata": {},
     "output_type": "execute_result"
    }
   ],
   "source": [
    "consulta = 'neuropsicología la introversion y la extroversion'\n",
    "consulta_a_palabras_relevantes(consulta=consulta, guardar_archivos=True, id_consulta='introversion')"
   ]
  },
  {
   "cell_type": "code",
   "execution_count": 2,
   "metadata": {},
   "outputs": [
    {
     "name": "stdout",
     "output_type": "stream",
     "text": [
      "SCRAPEANDO PÁGINA https://www.businessinsider.es/mejores-libros-aprender-invertir-bolsa-802557\n",
      "SCRAPEANDO PÁGINA https://www.academiadeinversion.com/libros-recomendados-para-aprender-invertir-en-bolsa/\n",
      "SCRAPEANDO PÁGINA https://www.elclubdeinversion.com/mejores-libros-de-bolsa/\n",
      "SCRAPEANDO PÁGINA https://www.tuplanabolsaytrading.com/blog-de-fran-fialli/mejores-libros-de-bolsa-y-trading/\n",
      "SCRAPEANDO PÁGINA https://ahorrador.ninja/mejores-libros-para-invertir-en-bolsa/\n",
      "SCRAPEANDO PÁGINA https://samuraifinanciero.com/libros-de-bolsa/\n",
      "SCRAPEANDO PÁGINA https://dinerobolsa.com/libros/\n",
      "SCRAPEANDO PÁGINA https://gestion.pe/fotogalerias/los-cinco-mejores-libros-para-comenzar-a-invertir-en-bolsa-en-2021-noticia/\n",
      "10 palabras más relevantes en todas las consultas:\n",
      " acciones analisis aprender autor bolsa comprar dinero empresas finanzas forma\n"
     ]
    },
    {
     "name": "stderr",
     "output_type": "stream",
     "text": [
      "c:\\Aplicaciones\\Python312\\Lib\\site-packages\\sklearn\\feature_extraction\\text.py:408: UserWarning: Your stop_words may be inconsistent with your preprocessing. Tokenizing the stop words generated tokens ['afirmo', 'agrego', 'algun', 'anadio', 'aseguro', 'comento', 'configuracion', 'considero', 'dejo', 'demas', 'estara', 'explico', 'expreso', 'habian', 'habra', 'indico', 'll', 'llego', 'manifesto', 'menciono', 'ningun', 'nt', 'pais', 'podra', 'podran', 'proximos', 'quedo', 'realizo', 'senalo', 'seran', 'seria', 'tendra', 'tendran', 'tenia', 'traves', 'ultima', 'ultimas', 'ultimos', 've'] not in stop_words.\n",
      "  warnings.warn(\n"
     ]
    },
    {
     "data": {
      "text/plain": [
       "'acciones analisis aprender autor bolsa comprar dinero empresas finanzas forma'"
      ]
     },
     "execution_count": 2,
     "metadata": {},
     "output_type": "execute_result"
    }
   ],
   "source": [
    "consulta = 'mejores libros sobre inversiones en bolsa'\n",
    "consulta_a_palabras_relevantes(consulta=consulta, guardar_archivos=True, id_consulta='bolsa2', mostrar_proceso=True)"
   ]
  },
  {
   "cell_type": "code",
   "execution_count": 6,
   "metadata": {},
   "outputs": [
    {
     "name": "stdout",
     "output_type": "stream",
     "text": [
      "SCRAPEANDO PÁGINA https://open.spotify.com/intl-es/album/7ws3KwMWIg0GNuzezWyAOh\n",
      "SCRAPEANDO PÁGINA https://www.youtube.com/watch?v=dz4j36jIIHU\n",
      "SCRAPEANDO PÁGINA https://music.apple.com/us/album/las-30-canciones-m%C3%A1s-famosas-de-la-m%C3%BAsica-cl%C3%A1sica/1395816969\n",
      "SCRAPEANDO PÁGINA https://open.spotify.com/album/69YjbTywjGV1Ow7XNLwg9f\n",
      "SCRAPEANDO PÁGINA https://www.nytimes.com/es/2020/12/24/espanol/cultura/mejor-musica-clasica.html\n",
      "SCRAPEANDO PÁGINA http://pablokohan.com.ar/nota/294-Las-diez-mejores-obras-de-la-musica-clasica\n",
      "10 palabras más relevantes en todas las consultas:\n",
      " bach beethoven canciones clasica danza mozart musica opera piano radio\n"
     ]
    },
    {
     "name": "stderr",
     "output_type": "stream",
     "text": [
      "c:\\Aplicaciones\\Python312\\Lib\\site-packages\\sklearn\\feature_extraction\\text.py:408: UserWarning: Your stop_words may be inconsistent with your preprocessing. Tokenizing the stop words generated tokens ['afirmo', 'agrego', 'algun', 'anadio', 'aseguro', 'comento', 'configuracion', 'considero', 'dejo', 'demas', 'estara', 'explico', 'expreso', 'habian', 'habra', 'indico', 'll', 'llego', 'manifesto', 'menciono', 'ningun', 'nt', 'pais', 'podra', 'podran', 'proximos', 'quedo', 'realizo', 'senalo', 'seran', 'seria', 'tendra', 'tendran', 'tenia', 'traves', 'ultima', 'ultimas', 'ultimos', 've'] not in stop_words.\n",
      "  warnings.warn(\n"
     ]
    },
    {
     "data": {
      "text/plain": [
       "'bach beethoven canciones clasica danza mozart musica opera piano radio'"
      ]
     },
     "execution_count": 6,
     "metadata": {},
     "output_type": "execute_result"
    }
   ],
   "source": [
    "consulta = 'mejores canciones de música clasica'\n",
    "consulta_a_palabras_relevantes(consulta=consulta, guardar_archivos=True, id_consulta='musicaClasica', mostrar_proceso=True)"
   ]
  }
 ],
 "metadata": {
  "kernelspec": {
   "display_name": "Python 3",
   "language": "python",
   "name": "python3"
  },
  "language_info": {
   "codemirror_mode": {
    "name": "ipython",
    "version": 3
   },
   "file_extension": ".py",
   "mimetype": "text/x-python",
   "name": "python",
   "nbconvert_exporter": "python",
   "pygments_lexer": "ipython3",
   "version": "3.12.1"
  }
 },
 "nbformat": 4,
 "nbformat_minor": 2
}

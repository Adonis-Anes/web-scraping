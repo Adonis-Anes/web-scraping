{
 "cells": [
  {
   "cell_type": "code",
   "execution_count": 1,
   "metadata": {},
   "outputs": [],
   "source": [
    "from functionsAcceptCookies import *\n",
    "from functionsNLP import *\n",
    "from functionsReadWriteFiles import *\n",
    "from funtcionsSerApi import consulta_a_links\n",
    "from main import consulta_a_palabras_relevantes\n",
    "from selenium import webdriver"
   ]
  },
  {
   "cell_type": "markdown",
   "metadata": {},
   "source": [
    "# Uso de las funciones para pasar de una consulta a un conjunto de datos paso a paso"
   ]
  },
  {
   "cell_type": "markdown",
   "metadata": {},
   "source": [
    "## 0.- Pasar de una consulta escrita a un conjunto de links"
   ]
  },
  {
   "cell_type": "code",
   "execution_count": 25,
   "metadata": {},
   "outputs": [
    {
     "data": {
      "text/plain": [
       "['https://www.youtube.com/watch?v=wvDO80bXY_w',\n",
       " 'https://www.youtube.com/watch?v=XswGwnjJSqs',\n",
       " 'https://www.fisioterapia-online.com/videos/reprogramacion-propioceptiva-para-lumbares-ejercicio-sencillo',\n",
       " 'https://fisioterapiaenriquesierra.es/ejercicios-para-estabilizacion-lumbar/',\n",
       " 'https://ejercicioterapeutico.com/2017/05/04/entrenamiento-propioceptivo-estabilidad-abdominal-lumbar-y-pelvis/',\n",
       " 'https://www.youtube.com/watch?v=d2oX5WXDY1Y',\n",
       " 'https://ejercicioterapeutico.com/category/entrenamiento-propioceptivo/',\n",
       " 'https://www.youtube.com/watch?v=EYAUP0lTn50',\n",
       " 'https://www.forumsport.com/es-es/blogs/fitness/3-ejercicios-fundamentales-para-fortalecer-las-lumbares/']"
      ]
     },
     "execution_count": 25,
     "metadata": {},
     "output_type": "execute_result"
    }
   ],
   "source": [
    "# 0.- Definir la consulta\n",
    "consulta = 'ejercicios para propiocepcion lumbar'\n",
    "id_consulta = 'lumbarPropiocepcion'\n",
    "guardar_consulta(id_consulta=id_consulta)\n",
    "# 1.- Pasar de una consulta escrita a un conjunto de links\n",
    "urls = consulta_a_links(consulta=consulta)\n",
    "urls"
   ]
  },
  {
   "cell_type": "markdown",
   "metadata": {},
   "source": [
    "Guardamos el resultado y comprobamos que se ha guardado correctamente volviéndolo a cargar"
   ]
  },
  {
   "cell_type": "code",
   "execution_count": 26,
   "metadata": {},
   "outputs": [
    {
     "data": {
      "text/plain": [
       "True"
      ]
     },
     "execution_count": 26,
     "metadata": {},
     "output_type": "execute_result"
    }
   ],
   "source": [
    "#Guardamos la lista como un archivo txt en la carpeta urls dentro de resultados\n",
    "guardar_urls(urls=urls, id_consulta=id_consulta)\n",
    "#Cargamos este archivo que acabamos de guardar y comprobamos que es igual \n",
    "cargar_urls(id_consulta=id_consulta) == urls"
   ]
  },
  {
   "cell_type": "markdown",
   "metadata": {},
   "source": [
    "## 1.- Meternos en dichas páginas, aceptar las cookies y descargar el html\n"
   ]
  },
  {
   "cell_type": "code",
   "execution_count": 3,
   "metadata": {},
   "outputs": [
    {
     "name": "stdout",
     "output_type": "stream",
     "text": [
      "Esta página https://www.youtube.com/watch?v=d2oX5WXDY1Y no tiene cookies\n",
      "Esta página https://www.youtube.com/watch?v=EYAUP0lTn50 no tiene cookies\n",
      "Botón de cookies no encontrada para la url https://fisioterapiaenriquesierra.es/ejercicios-para-estabilizacion-lumbar/\n",
      "Esta página https://www.youtube.com/watch?v=XswGwnjJSqs no tiene cookies\n",
      "Esta página https://www.youtube.com/watch?v=wvDO80bXY_w no tiene cookies\n",
      "Botón de cookies no encontrada para la url https://ejercicioterapeutico.com/2017/05/04/entrenamiento-propioceptivo-estabilidad-abdominal-lumbar-y-pelvis/\n",
      "Botón de cookies no encontrada para la url https://ejercicioterapeutico.com/category/entrenamiento-propioceptivo/\n",
      "Botón de cookies no encontrada para la url https://www.fisioterapia-online.com/videos/reprogramacion-propioceptiva-para-lumbares-ejercicio-sencillo\n"
     ]
    }
   ],
   "source": [
    "htmls = aceptar_cookies_y_extraer_htmls_paralelizado(urls=urls)"
   ]
  },
  {
   "cell_type": "markdown",
   "metadata": {},
   "source": [
    "Guardamos el resultado y lo cargamos en la misma variable anterior (hacemos esto para ver el uso de la función)"
   ]
  },
  {
   "cell_type": "code",
   "execution_count": 4,
   "metadata": {},
   "outputs": [],
   "source": [
    "crear_carpeta(f'results/htmls/{id_consulta}/')\n",
    "guardar_htmls(htmls=htmls, id_consulta=id_consulta)\n",
    "#cargar_htmls(id_consulta=id_consulta)"
   ]
  },
  {
   "cell_type": "markdown",
   "metadata": {},
   "source": [
    "Comparamos el tiempo de ejecución de esta consulta que utiliza paralelismo con la función equivalente sin paralelismo, tenemos un tiempo de 1, 13.3 s frente a 1m 45.6s"
   ]
  },
  {
   "cell_type": "code",
   "execution_count": 4,
   "metadata": {},
   "outputs": [
    {
     "name": "stdout",
     "output_type": "stream",
     "text": [
      "Esta página https://www.youtube.com/watch?v=wvDO80bXY_w no tiene cookies\n",
      "Esta página https://www.youtube.com/watch?v=XswGwnjJSqs no tiene cookies\n",
      "Botón de cookies no encontrada para la url https://www.fisioterapia-online.com/videos/reprogramacion-propioceptiva-para-lumbares-ejercicio-sencillo\n",
      "Botón de cookies no encontrada para la url https://fisioterapiaenriquesierra.es/ejercicios-para-estabilizacion-lumbar/\n",
      "Botón de cookies no encontrada para la url https://ejercicioterapeutico.com/2017/05/04/entrenamiento-propioceptivo-estabilidad-abdominal-lumbar-y-pelvis/\n",
      "Esta página https://www.youtube.com/watch?v=d2oX5WXDY1Y no tiene cookies\n",
      "Botón de cookies no encontrada para la url https://ejercicioterapeutico.com/category/entrenamiento-propioceptivo/\n",
      "Esta página https://www.youtube.com/watch?v=EYAUP0lTn50 no tiene cookies\n",
      "Elemento con xpath://*[contains(text(),'Acept')], encontrado y clicado para url https://www.forumsport.com/es-es/blogs/fitness/3-ejercicios-fundamentales-para-fortalecer-las-lumbares/\n"
     ]
    }
   ],
   "source": [
    "# 2.- Meternos en dichas páginas, aceptar las cookies y descargar el html\n",
    "res = aceptar_cookies_y_extraer_htmls_no_concurrente(urls=urls)"
   ]
  },
  {
   "cell_type": "markdown",
   "metadata": {},
   "source": [
    "## 2.- Obtener el texto de los htmls\n"
   ]
  },
  {
   "cell_type": "code",
   "execution_count": 5,
   "metadata": {},
   "outputs": [],
   "source": [
    "textos = htmls_a_textos(htmls=htmls)"
   ]
  },
  {
   "cell_type": "markdown",
   "metadata": {},
   "source": [
    "Guardamos el resultado y lo cargamos en la misma variable anterior (hacemos esto para ver el uso de la función)"
   ]
  },
  {
   "cell_type": "code",
   "execution_count": 6,
   "metadata": {},
   "outputs": [
    {
     "data": {
      "text/plain": [
       "True"
      ]
     },
     "execution_count": 6,
     "metadata": {},
     "output_type": "execute_result"
    }
   ],
   "source": [
    "crear_carpeta(f'results/textos/{id_consulta}/')\n",
    "guardar_textos(textos=textos, id_consulta=id_consulta)\n",
    "cargar_textos(id_consulta=id_consulta) == textos"
   ]
  },
  {
   "cell_type": "markdown",
   "metadata": {},
   "source": [
    "## 3.- Crear la matriz tfidf de dichos textos\n"
   ]
  },
  {
   "cell_type": "code",
   "execution_count": 7,
   "metadata": {},
   "outputs": [
    {
     "data": {
      "text/html": [
       "<div>\n",
       "<style scoped>\n",
       "    .dataframe tbody tr th:only-of-type {\n",
       "        vertical-align: middle;\n",
       "    }\n",
       "\n",
       "    .dataframe tbody tr th {\n",
       "        vertical-align: top;\n",
       "    }\n",
       "\n",
       "    .dataframe thead th {\n",
       "        text-align: right;\n",
       "    }\n",
       "</style>\n",
       "<table border=\"1\" class=\"dataframe\">\n",
       "  <thead>\n",
       "    <tr style=\"text-align: right;\">\n",
       "      <th></th>\n",
       "      <th>0</th>\n",
       "      <th>1</th>\n",
       "      <th>2</th>\n",
       "      <th>3</th>\n",
       "      <th>4</th>\n",
       "      <th>5</th>\n",
       "      <th>6</th>\n",
       "      <th>7</th>\n",
       "      <th>8</th>\n",
       "      <th>total doc freq</th>\n",
       "    </tr>\n",
       "  </thead>\n",
       "  <tbody>\n",
       "    <tr>\n",
       "      <th>aviso</th>\n",
       "      <td>0.0</td>\n",
       "      <td>0.0</td>\n",
       "      <td>0.023742</td>\n",
       "      <td>0.029198</td>\n",
       "      <td>0.049875</td>\n",
       "      <td>0.0</td>\n",
       "      <td>0.041559</td>\n",
       "      <td>0.0</td>\n",
       "      <td>0.051434</td>\n",
       "      <td>5.0</td>\n",
       "    </tr>\n",
       "    <tr>\n",
       "      <th>columna</th>\n",
       "      <td>0.0</td>\n",
       "      <td>0.0</td>\n",
       "      <td>0.023742</td>\n",
       "      <td>0.029198</td>\n",
       "      <td>0.299253</td>\n",
       "      <td>0.0</td>\n",
       "      <td>0.166234</td>\n",
       "      <td>0.0</td>\n",
       "      <td>0.411476</td>\n",
       "      <td>5.0</td>\n",
       "    </tr>\n",
       "    <tr>\n",
       "      <th>contenido</th>\n",
       "      <td>0.0</td>\n",
       "      <td>0.0</td>\n",
       "      <td>0.071227</td>\n",
       "      <td>0.029198</td>\n",
       "      <td>0.049875</td>\n",
       "      <td>0.0</td>\n",
       "      <td>0.041559</td>\n",
       "      <td>0.0</td>\n",
       "      <td>0.051434</td>\n",
       "      <td>5.0</td>\n",
       "    </tr>\n",
       "    <tr>\n",
       "      <th>dolor</th>\n",
       "      <td>0.0</td>\n",
       "      <td>0.0</td>\n",
       "      <td>0.379877</td>\n",
       "      <td>0.233583</td>\n",
       "      <td>0.149626</td>\n",
       "      <td>0.0</td>\n",
       "      <td>0.041559</td>\n",
       "      <td>0.0</td>\n",
       "      <td>0.051434</td>\n",
       "      <td>5.0</td>\n",
       "    </tr>\n",
       "    <tr>\n",
       "      <th>ejercicio</th>\n",
       "      <td>0.0</td>\n",
       "      <td>0.0</td>\n",
       "      <td>0.759754</td>\n",
       "      <td>0.087594</td>\n",
       "      <td>0.798007</td>\n",
       "      <td>0.0</td>\n",
       "      <td>0.914289</td>\n",
       "      <td>0.0</td>\n",
       "      <td>0.102869</td>\n",
       "      <td>5.0</td>\n",
       "    </tr>\n",
       "    <tr>\n",
       "      <th>ejercicios</th>\n",
       "      <td>0.0</td>\n",
       "      <td>0.0</td>\n",
       "      <td>0.474846</td>\n",
       "      <td>0.583957</td>\n",
       "      <td>0.299253</td>\n",
       "      <td>0.0</td>\n",
       "      <td>0.166234</td>\n",
       "      <td>0.0</td>\n",
       "      <td>0.514344</td>\n",
       "      <td>5.0</td>\n",
       "    </tr>\n",
       "    <tr>\n",
       "      <th>legal</th>\n",
       "      <td>0.0</td>\n",
       "      <td>0.0</td>\n",
       "      <td>0.047485</td>\n",
       "      <td>0.029198</td>\n",
       "      <td>0.049875</td>\n",
       "      <td>0.0</td>\n",
       "      <td>0.041559</td>\n",
       "      <td>0.0</td>\n",
       "      <td>0.051434</td>\n",
       "      <td>5.0</td>\n",
       "    </tr>\n",
       "    <tr>\n",
       "      <th>lumbar</th>\n",
       "      <td>0.0</td>\n",
       "      <td>0.0</td>\n",
       "      <td>0.166196</td>\n",
       "      <td>0.729946</td>\n",
       "      <td>0.249377</td>\n",
       "      <td>0.0</td>\n",
       "      <td>0.124676</td>\n",
       "      <td>0.0</td>\n",
       "      <td>0.308607</td>\n",
       "      <td>5.0</td>\n",
       "    </tr>\n",
       "    <tr>\n",
       "      <th>mejorar</th>\n",
       "      <td>0.0</td>\n",
       "      <td>0.0</td>\n",
       "      <td>0.071227</td>\n",
       "      <td>0.087594</td>\n",
       "      <td>0.249377</td>\n",
       "      <td>0.0</td>\n",
       "      <td>0.041559</td>\n",
       "      <td>0.0</td>\n",
       "      <td>0.154303</td>\n",
       "      <td>5.0</td>\n",
       "    </tr>\n",
       "    <tr>\n",
       "      <th>privacidad</th>\n",
       "      <td>0.0</td>\n",
       "      <td>0.0</td>\n",
       "      <td>0.047485</td>\n",
       "      <td>0.087594</td>\n",
       "      <td>0.099751</td>\n",
       "      <td>0.0</td>\n",
       "      <td>0.083117</td>\n",
       "      <td>0.0</td>\n",
       "      <td>0.205738</td>\n",
       "      <td>5.0</td>\n",
       "    </tr>\n",
       "    <tr>\n",
       "      <th>propiocepcion</th>\n",
       "      <td>0.0</td>\n",
       "      <td>0.0</td>\n",
       "      <td>0.094969</td>\n",
       "      <td>0.058396</td>\n",
       "      <td>0.099751</td>\n",
       "      <td>0.0</td>\n",
       "      <td>0.249351</td>\n",
       "      <td>0.0</td>\n",
       "      <td>0.051434</td>\n",
       "      <td>5.0</td>\n",
       "    </tr>\n",
       "    <tr>\n",
       "      <th>web</th>\n",
       "      <td>0.0</td>\n",
       "      <td>0.0</td>\n",
       "      <td>0.023742</td>\n",
       "      <td>0.204385</td>\n",
       "      <td>0.099751</td>\n",
       "      <td>0.0</td>\n",
       "      <td>0.124676</td>\n",
       "      <td>0.0</td>\n",
       "      <td>0.617213</td>\n",
       "      <td>5.0</td>\n",
       "    </tr>\n",
       "  </tbody>\n",
       "</table>\n",
       "</div>"
      ],
      "text/plain": [
       "                 0    1         2         3         4    5         6    7  \\\n",
       "aviso          0.0  0.0  0.023742  0.029198  0.049875  0.0  0.041559  0.0   \n",
       "columna        0.0  0.0  0.023742  0.029198  0.299253  0.0  0.166234  0.0   \n",
       "contenido      0.0  0.0  0.071227  0.029198  0.049875  0.0  0.041559  0.0   \n",
       "dolor          0.0  0.0  0.379877  0.233583  0.149626  0.0  0.041559  0.0   \n",
       "ejercicio      0.0  0.0  0.759754  0.087594  0.798007  0.0  0.914289  0.0   \n",
       "ejercicios     0.0  0.0  0.474846  0.583957  0.299253  0.0  0.166234  0.0   \n",
       "legal          0.0  0.0  0.047485  0.029198  0.049875  0.0  0.041559  0.0   \n",
       "lumbar         0.0  0.0  0.166196  0.729946  0.249377  0.0  0.124676  0.0   \n",
       "mejorar        0.0  0.0  0.071227  0.087594  0.249377  0.0  0.041559  0.0   \n",
       "privacidad     0.0  0.0  0.047485  0.087594  0.099751  0.0  0.083117  0.0   \n",
       "propiocepcion  0.0  0.0  0.094969  0.058396  0.099751  0.0  0.249351  0.0   \n",
       "web            0.0  0.0  0.023742  0.204385  0.099751  0.0  0.124676  0.0   \n",
       "\n",
       "                      8  total doc freq  \n",
       "aviso          0.051434             5.0  \n",
       "columna        0.411476             5.0  \n",
       "contenido      0.051434             5.0  \n",
       "dolor          0.051434             5.0  \n",
       "ejercicio      0.102869             5.0  \n",
       "ejercicios     0.514344             5.0  \n",
       "legal          0.051434             5.0  \n",
       "lumbar         0.308607             5.0  \n",
       "mejorar        0.154303             5.0  \n",
       "privacidad     0.205738             5.0  \n",
       "propiocepcion  0.051434             5.0  \n",
       "web            0.617213             5.0  "
      ]
     },
     "execution_count": 7,
     "metadata": {},
     "output_type": "execute_result"
    }
   ],
   "source": [
    "tfidf = crear_matriz_tfidf(text_files=textos)\n",
    "tfidf"
   ]
  },
  {
   "cell_type": "code",
   "execution_count": 8,
   "metadata": {},
   "outputs": [
    {
     "data": {
      "text/html": [
       "<div>\n",
       "<style scoped>\n",
       "    .dataframe tbody tr th:only-of-type {\n",
       "        vertical-align: middle;\n",
       "    }\n",
       "\n",
       "    .dataframe tbody tr th {\n",
       "        vertical-align: top;\n",
       "    }\n",
       "\n",
       "    .dataframe thead th {\n",
       "        text-align: right;\n",
       "    }\n",
       "</style>\n",
       "<table border=\"1\" class=\"dataframe\">\n",
       "  <thead>\n",
       "    <tr style=\"text-align: right;\">\n",
       "      <th></th>\n",
       "      <th>palabras</th>\n",
       "      <th>0</th>\n",
       "      <th>1</th>\n",
       "      <th>2</th>\n",
       "      <th>3</th>\n",
       "      <th>4</th>\n",
       "      <th>5</th>\n",
       "      <th>6</th>\n",
       "      <th>7</th>\n",
       "      <th>8</th>\n",
       "      <th>total doc freq</th>\n",
       "    </tr>\n",
       "  </thead>\n",
       "  <tbody>\n",
       "    <tr>\n",
       "      <th>0</th>\n",
       "      <td>aviso</td>\n",
       "      <td>0.0</td>\n",
       "      <td>0.0</td>\n",
       "      <td>0.023742</td>\n",
       "      <td>0.029198</td>\n",
       "      <td>0.049875</td>\n",
       "      <td>0.0</td>\n",
       "      <td>0.041559</td>\n",
       "      <td>0.0</td>\n",
       "      <td>0.051434</td>\n",
       "      <td>5.0</td>\n",
       "    </tr>\n",
       "    <tr>\n",
       "      <th>1</th>\n",
       "      <td>columna</td>\n",
       "      <td>0.0</td>\n",
       "      <td>0.0</td>\n",
       "      <td>0.023742</td>\n",
       "      <td>0.029198</td>\n",
       "      <td>0.299253</td>\n",
       "      <td>0.0</td>\n",
       "      <td>0.166234</td>\n",
       "      <td>0.0</td>\n",
       "      <td>0.411476</td>\n",
       "      <td>5.0</td>\n",
       "    </tr>\n",
       "    <tr>\n",
       "      <th>2</th>\n",
       "      <td>contenido</td>\n",
       "      <td>0.0</td>\n",
       "      <td>0.0</td>\n",
       "      <td>0.071227</td>\n",
       "      <td>0.029198</td>\n",
       "      <td>0.049875</td>\n",
       "      <td>0.0</td>\n",
       "      <td>0.041559</td>\n",
       "      <td>0.0</td>\n",
       "      <td>0.051434</td>\n",
       "      <td>5.0</td>\n",
       "    </tr>\n",
       "    <tr>\n",
       "      <th>3</th>\n",
       "      <td>dolor</td>\n",
       "      <td>0.0</td>\n",
       "      <td>0.0</td>\n",
       "      <td>0.379877</td>\n",
       "      <td>0.233583</td>\n",
       "      <td>0.149626</td>\n",
       "      <td>0.0</td>\n",
       "      <td>0.041559</td>\n",
       "      <td>0.0</td>\n",
       "      <td>0.051434</td>\n",
       "      <td>5.0</td>\n",
       "    </tr>\n",
       "    <tr>\n",
       "      <th>4</th>\n",
       "      <td>ejercicio</td>\n",
       "      <td>0.0</td>\n",
       "      <td>0.0</td>\n",
       "      <td>0.759754</td>\n",
       "      <td>0.087594</td>\n",
       "      <td>0.798007</td>\n",
       "      <td>0.0</td>\n",
       "      <td>0.914289</td>\n",
       "      <td>0.0</td>\n",
       "      <td>0.102869</td>\n",
       "      <td>5.0</td>\n",
       "    </tr>\n",
       "  </tbody>\n",
       "</table>\n",
       "</div>"
      ],
      "text/plain": [
       "    palabras    0    1         2         3         4    5         6    7  \\\n",
       "0      aviso  0.0  0.0  0.023742  0.029198  0.049875  0.0  0.041559  0.0   \n",
       "1    columna  0.0  0.0  0.023742  0.029198  0.299253  0.0  0.166234  0.0   \n",
       "2  contenido  0.0  0.0  0.071227  0.029198  0.049875  0.0  0.041559  0.0   \n",
       "3      dolor  0.0  0.0  0.379877  0.233583  0.149626  0.0  0.041559  0.0   \n",
       "4  ejercicio  0.0  0.0  0.759754  0.087594  0.798007  0.0  0.914289  0.0   \n",
       "\n",
       "          8  total doc freq  \n",
       "0  0.051434             5.0  \n",
       "1  0.411476             5.0  \n",
       "2  0.051434             5.0  \n",
       "3  0.051434             5.0  \n",
       "4  0.102869             5.0  "
      ]
     },
     "execution_count": 8,
     "metadata": {},
     "output_type": "execute_result"
    }
   ],
   "source": [
    "# guardar la matriz\n",
    "guardar_tfidf(tfidf=tfidf, id_consulta=id_consulta)\n",
    "# cargarla y mostrar en pantalla las primeras filas\n",
    "cargar_tfidf(id_consulta=id_consulta).head()"
   ]
  },
  {
   "cell_type": "markdown",
   "metadata": {},
   "source": [
    "## 4.- Obtener palabras relevantes"
   ]
  },
  {
   "cell_type": "code",
   "execution_count": 9,
   "metadata": {},
   "outputs": [
    {
     "data": {
      "text/plain": [
       "'aviso columna contenido dolor ejercicio ejercicios legal lumbar mejorar privacidad'"
      ]
     },
     "execution_count": 9,
     "metadata": {},
     "output_type": "execute_result"
    }
   ],
   "source": [
    "palabras_rel_consulta = top_n_palabras_rel_tdidf(tfidf=tfidf)\n",
    "palabras_rel_consulta"
   ]
  },
  {
   "cell_type": "code",
   "execution_count": 10,
   "metadata": {},
   "outputs": [
    {
     "data": {
      "text/plain": [
       "True"
      ]
     },
     "execution_count": 10,
     "metadata": {},
     "output_type": "execute_result"
    }
   ],
   "source": [
    "# guardar las palabras relevantes\n",
    "guardar_palabras_rel(palabras=palabras_rel_consulta, id_consulta=id_consulta)\n",
    "# cargar las palabras relevantes\n",
    "cargar_palabras_rel(id_consulta=id_consulta)==palabras_rel_consulta"
   ]
  },
  {
   "cell_type": "markdown",
   "metadata": {},
   "source": [
    "# Uso de la función `consulta_a_palabras_relevantes()`"
   ]
  },
  {
   "cell_type": "code",
   "execution_count": 2,
   "metadata": {},
   "outputs": [
    {
     "name": "stdout",
     "output_type": "stream",
     "text": [
      "0.- Realizando la consulta y obteniendo links\n",
      "1.- Aceptando cookies y extrayendo html\n",
      "Elemento con xpath://*[contains(text(),'Acept')], encontrado y clicado para url https://www.fotogramas.es/noticias-cine/g14359218/las-50-mejores-peliculas-de-superheroes-segun-los-usuarios-de-imdb/\n",
      "Botón de cookies no encontrada para la url https://www.imdb.com/list/ls050750466/\n",
      "Botón de cookies no encontrada para la url https://www.filmaffinity.com/es/ranking.php?rn=ranking_superheroes\n",
      "Elemento con xpath://*[contains(text(),'Acept')], encontrado y clicado para url https://as.com/meristation/noticias/las-35-mejores-peliculas-de-superheroes-de-la-historia-marvel-dc-y-mas-de-un-invitado-sorpresa-n/\n",
      "Botón de cookies no encontrada para la url https://es.rollingstone.com/las-mejores-25-peliculas-de-superheroes-arg/\n",
      "Botón de cookies no encontrada para la url https://global.techradar.com/es-es/best/las-25-mejores-peliculas-de-superheroes-de-todos-los-tiempos\n",
      "Botón de cookies no encontrada para la url https://depor.com/depor-play/pantalla/cuales-son-las-mejores-peliculas-de-superheroes-10-cintas-que-lideran-el-ranking-de-imdb-nnda-nnlt-noticia/\n",
      "Botón de cookies no encontrada para la url https://vandal.elespanol.com/reportaje/random-las-15-mejores-peliculas-de-superheroes-de-todos-los-tiempos-\n",
      "Botón de cookies no encontrada para la url https://www.mundodeportivo.com/alfabeta/cine/las-mejores-peliculas-de-superheroes-de-la-historia\n",
      "2.- Extrayendo texto limpio del html\n",
      "3.- Creando la matriz tfidf\n",
      "4.- Obteniendo palabras más relevantes\n",
      "Las 10 palabras relevantes son:\n",
      " años batman caballero chris christopher cine clic director disney historia\n"
     ]
    },
    {
     "data": {
      "text/plain": [
       "'años batman caballero chris christopher cine clic director disney historia'"
      ]
     },
     "execution_count": 2,
     "metadata": {},
     "output_type": "execute_result"
    }
   ],
   "source": [
    "consulta = 'mejores películas de superhéores'\n",
    "consulta_a_palabras_relevantes(consulta=consulta, id_consulta='pelisSuperheores', guardar_archivos=True)"
   ]
  }
 ],
 "metadata": {
  "kernelspec": {
   "display_name": "Python 3",
   "language": "python",
   "name": "python3"
  },
  "language_info": {
   "codemirror_mode": {
    "name": "ipython",
    "version": 3
   },
   "file_extension": ".py",
   "mimetype": "text/x-python",
   "name": "python",
   "nbconvert_exporter": "python",
   "pygments_lexer": "ipython3",
   "version": "3.12.1"
  }
 },
 "nbformat": 4,
 "nbformat_minor": 2
}

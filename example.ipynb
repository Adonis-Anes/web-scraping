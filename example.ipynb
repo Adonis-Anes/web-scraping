{
 "cells": [
  {
   "cell_type": "code",
   "execution_count": 2,
   "metadata": {},
   "outputs": [],
   "source": [
    "from functions import *\n",
    "from SerApi_searches import consulta_a_links"
   ]
  },
  {
   "cell_type": "markdown",
   "metadata": {},
   "source": [
    "## 1.- Pasar de una consulta escrita a un conjunto de links"
   ]
  },
  {
   "cell_type": "code",
   "execution_count": 3,
   "metadata": {},
   "outputs": [],
   "source": [
    "# 0.- Definir la consulta\n",
    "consulta_cafeina = 'cuál es el componente de la cafeína que actúa en el cerebro'\n",
    "# 1.- Pasar de una consulta escrita a un conjunto de links\n",
    "urls_cafeina = consulta_a_links(consulta=consulta_cafeina)\n",
    "urls_cafeina"
   ]
  },
  {
   "cell_type": "markdown",
   "metadata": {},
   "source": [
    "Guardamos el resultado y comprobamos que se ha guardado correctamente volviéndolo a cargar"
   ]
  },
  {
   "cell_type": "code",
   "execution_count": 8,
   "metadata": {},
   "outputs": [
    {
     "data": {
      "text/plain": [
       "['https://www.healthline.com/health/es/cerebro-de-cafe',\n",
       " 'https://www.lavanguardia.com/vivo/nutricion/20170828/43830263053/efectos-cafe-cerebro.html',\n",
       " 'https://www.infobae.com/salud/2023/12/06/como-actua-la-cafeina-en-la-capacidad-del-cerebro-para-aprender/',\n",
       " 'https://www.cafetearte.es/blog/post/como-actua-la-cafeina-en-nuestro-cerebro.html',\n",
       " 'https://www.elespanol.com/ciencia/salud/20170803/236226418_0.html',\n",
       " 'https://medlineplus.gov/spanish/ency/article/002445.htm',\n",
       " 'https://www.elsevier.es/es-revista-neurologia-295-articulo-cafeina-cefalea-consideraciones-especiales-S0213485315000158',\n",
       " 'https://psicoveritas.com/blog/como-afecta-la-cafeina-al-cerebro-2/',\n",
       " 'https://www.cicas.es/noticias/efectos-de-la-cafeina-en-el-sistema-nervioso-central-snc']"
      ]
     },
     "execution_count": 8,
     "metadata": {},
     "output_type": "execute_result"
    }
   ],
   "source": [
    "#Guardamos la lista como un archivo txt en la carpeta urls dentro de resultados \n",
    "guardar_lista_como_txt_por_lineas(urls_cafeina, 'results/urls/urlsCafeina.txt')\n",
    "urls_cafeina = txt_a_lista(\"results/urls/urlsCafeina.txt\")\n",
    "urls_cafeina"
   ]
  },
  {
   "cell_type": "markdown",
   "metadata": {},
   "source": [
    "## 2.- Meternos en dichas páginas, aceptar las cookies y descargar el html\n"
   ]
  },
  {
   "cell_type": "code",
   "execution_count": 9,
   "metadata": {},
   "outputs": [
    {
     "name": "stdout",
     "output_type": "stream",
     "text": [
      "SCRAPEANDO PÁGINA https://www.healthline.com/health/es/cerebro-de-cafe\n",
      "SCRAPEANDO PÁGINA https://www.lavanguardia.com/vivo/nutricion/20170828/43830263053/efectos-cafe-cerebro.html\n",
      "SCRAPEANDO PÁGINA https://www.infobae.com/salud/2023/12/06/como-actua-la-cafeina-en-la-capacidad-del-cerebro-para-aprender/\n",
      "SCRAPEANDO PÁGINA https://www.cafetearte.es/blog/post/como-actua-la-cafeina-en-nuestro-cerebro.html\n",
      "SCRAPEANDO PÁGINA https://www.elespanol.com/ciencia/salud/20170803/236226418_0.html\n",
      "SCRAPEANDO PÁGINA https://medlineplus.gov/spanish/ency/article/002445.htm\n",
      "SCRAPEANDO PÁGINA https://www.elsevier.es/es-revista-neurologia-295-articulo-cafeina-cefalea-consideraciones-especiales-S0213485315000158\n",
      "SCRAPEANDO PÁGINA https://psicoveritas.com/blog/como-afecta-la-cafeina-al-cerebro-2/\n",
      "SCRAPEANDO PÁGINA https://www.cicas.es/noticias/efectos-de-la-cafeina-en-el-sistema-nervioso-central-snc\n"
     ]
    }
   ],
   "source": [
    "# 2.- Meternos en dichas páginas, aceptar las cookies y descargar el html\n",
    "htmls_cafeina = aceptar_cookies_y_guardar_htmls(urls_cafeina)"
   ]
  },
  {
   "cell_type": "markdown",
   "metadata": {},
   "source": [
    "Guardamos el resultado y lo cargamos en la misma variable anterior (hacemos esto para ver el uso de la función)"
   ]
  },
  {
   "cell_type": "code",
   "execution_count": 13,
   "metadata": {},
   "outputs": [],
   "source": [
    "guardar_cada_elem_de_lista_como_txt_diferente(lista= htmls_cafeina, dir_dest_comun='results/htmls/cafeina/', nombre_comun_archivos='htmlCafeina')\n",
    "htmls_cafeina = archivos_de_carpeta_a_lista(num_archivos=9, dir_comun=\"results/htmls/cafeina/htmlCafeina\")"
   ]
  },
  {
   "cell_type": "markdown",
   "metadata": {},
   "source": [
    "## 3.- Obtener el texto de los htmls\n"
   ]
  },
  {
   "cell_type": "code",
   "execution_count": 14,
   "metadata": {},
   "outputs": [],
   "source": [
    "textos_cafeina = htmls_a_textos(htmls=htmls_cafeina)"
   ]
  },
  {
   "cell_type": "markdown",
   "metadata": {},
   "source": [
    "Guardamos el resultado y lo cargamos en la misma variable anterior (hacemos esto para ver el uso de la función)"
   ]
  },
  {
   "cell_type": "code",
   "execution_count": 15,
   "metadata": {},
   "outputs": [],
   "source": [
    "guardar_cada_elem_de_lista_como_txt_diferente(lista= textos_cafeina, dir_dest_comun='results/textos/cafeina/', nombre_comun_archivos='textoCafeina')\n",
    "textos_cafeina = archivos_de_carpeta_a_lista(num_archivos=9, dir_comun=\"results/textos/cafeina/textoCafeina\")\n"
   ]
  },
  {
   "cell_type": "markdown",
   "metadata": {},
   "source": [
    "## 4.- Crear la matriz tfidf de dichos textos\n"
   ]
  },
  {
   "cell_type": "code",
   "execution_count": 17,
   "metadata": {},
   "outputs": [
    {
     "name": "stderr",
     "output_type": "stream",
     "text": [
      "c:\\Aplicaciones\\Python312\\Lib\\site-packages\\sklearn\\feature_extraction\\text.py:408: UserWarning: Your stop_words may be inconsistent with your preprocessing. Tokenizing the stop words generated tokens ['afirmo', 'agrego', 'algun', 'anadio', 'aseguro', 'comento', 'configuracion', 'considero', 'dejo', 'demas', 'estara', 'explico', 'expreso', 'habian', 'habra', 'indico', 'll', 'llego', 'manifesto', 'menciono', 'ningun', 'nt', 'pais', 'podra', 'podran', 'proximos', 'quedo', 'realizo', 'senalo', 'seran', 'seria', 'tendra', 'tendran', 'tenia', 'traves', 'ultima', 'ultimas', 'ultimos', 've'] not in stop_words.\n",
      "  warnings.warn(\n"
     ]
    },
    {
     "data": {
      "text/html": [
       "<div>\n",
       "<style scoped>\n",
       "    .dataframe tbody tr th:only-of-type {\n",
       "        vertical-align: middle;\n",
       "    }\n",
       "\n",
       "    .dataframe tbody tr th {\n",
       "        vertical-align: top;\n",
       "    }\n",
       "\n",
       "    .dataframe thead th {\n",
       "        text-align: right;\n",
       "    }\n",
       "</style>\n",
       "<table border=\"1\" class=\"dataframe\">\n",
       "  <thead>\n",
       "    <tr style=\"text-align: right;\">\n",
       "      <th></th>\n",
       "      <th>0</th>\n",
       "      <th>1</th>\n",
       "      <th>2</th>\n",
       "      <th>3</th>\n",
       "      <th>4</th>\n",
       "      <th>5</th>\n",
       "      <th>6</th>\n",
       "      <th>7</th>\n",
       "      <th>8</th>\n",
       "      <th>total doc freq</th>\n",
       "    </tr>\n",
       "  </thead>\n",
       "  <tbody>\n",
       "    <tr>\n",
       "      <th>actividad</th>\n",
       "      <td>0.054000</td>\n",
       "      <td>0.000000</td>\n",
       "      <td>0.091410</td>\n",
       "      <td>0.098528</td>\n",
       "      <td>0.000000</td>\n",
       "      <td>0.000000</td>\n",
       "      <td>0.000000</td>\n",
       "      <td>0.059541</td>\n",
       "      <td>0.154457</td>\n",
       "      <td>5.0</td>\n",
       "    </tr>\n",
       "    <tr>\n",
       "      <th>adenosina</th>\n",
       "      <td>0.177784</td>\n",
       "      <td>0.207578</td>\n",
       "      <td>0.003934</td>\n",
       "      <td>0.072086</td>\n",
       "      <td>0.372933</td>\n",
       "      <td>0.000000</td>\n",
       "      <td>0.186078</td>\n",
       "      <td>0.014521</td>\n",
       "      <td>0.075336</td>\n",
       "      <td>8.0</td>\n",
       "    </tr>\n",
       "    <tr>\n",
       "      <th>cafe</th>\n",
       "      <td>0.571868</td>\n",
       "      <td>0.469480</td>\n",
       "      <td>0.017795</td>\n",
       "      <td>0.766272</td>\n",
       "      <td>0.051906</td>\n",
       "      <td>0.117144</td>\n",
       "      <td>0.012024</td>\n",
       "      <td>0.052546</td>\n",
       "      <td>0.647478</td>\n",
       "      <td>9.0</td>\n",
       "    </tr>\n",
       "    <tr>\n",
       "      <th>cafeina</th>\n",
       "      <td>0.643352</td>\n",
       "      <td>0.516428</td>\n",
       "      <td>0.067621</td>\n",
       "      <td>0.358681</td>\n",
       "      <td>0.700725</td>\n",
       "      <td>0.890295</td>\n",
       "      <td>0.841705</td>\n",
       "      <td>0.197047</td>\n",
       "      <td>0.391894</td>\n",
       "      <td>9.0</td>\n",
       "    </tr>\n",
       "    <tr>\n",
       "      <th>cerebral</th>\n",
       "      <td>0.109293</td>\n",
       "      <td>0.000000</td>\n",
       "      <td>0.030472</td>\n",
       "      <td>0.039883</td>\n",
       "      <td>0.063488</td>\n",
       "      <td>0.000000</td>\n",
       "      <td>0.058830</td>\n",
       "      <td>0.016068</td>\n",
       "      <td>0.041682</td>\n",
       "      <td>7.0</td>\n",
       "    </tr>\n",
       "  </tbody>\n",
       "</table>\n",
       "</div>"
      ],
      "text/plain": [
       "                  0         1         2         3         4         5  \\\n",
       "actividad  0.054000  0.000000  0.091410  0.098528  0.000000  0.000000   \n",
       "adenosina  0.177784  0.207578  0.003934  0.072086  0.372933  0.000000   \n",
       "cafe       0.571868  0.469480  0.017795  0.766272  0.051906  0.117144   \n",
       "cafeina    0.643352  0.516428  0.067621  0.358681  0.700725  0.890295   \n",
       "cerebral   0.109293  0.000000  0.030472  0.039883  0.063488  0.000000   \n",
       "\n",
       "                  6         7         8  total doc freq  \n",
       "actividad  0.000000  0.059541  0.154457             5.0  \n",
       "adenosina  0.186078  0.014521  0.075336             8.0  \n",
       "cafe       0.012024  0.052546  0.647478             9.0  \n",
       "cafeina    0.841705  0.197047  0.391894             9.0  \n",
       "cerebral   0.058830  0.016068  0.041682             7.0  "
      ]
     },
     "execution_count": 17,
     "metadata": {},
     "output_type": "execute_result"
    }
   ],
   "source": [
    "tfidf_cafeina = crear_matriz_tfidf(text_files=textos_cafeina)\n",
    "tfidf_cafeina.head()"
   ]
  },
  {
   "cell_type": "code",
   "execution_count": 22,
   "metadata": {},
   "outputs": [
    {
     "data": {
      "text/html": [
       "<div>\n",
       "<style scoped>\n",
       "    .dataframe tbody tr th:only-of-type {\n",
       "        vertical-align: middle;\n",
       "    }\n",
       "\n",
       "    .dataframe tbody tr th {\n",
       "        vertical-align: top;\n",
       "    }\n",
       "\n",
       "    .dataframe thead th {\n",
       "        text-align: right;\n",
       "    }\n",
       "</style>\n",
       "<table border=\"1\" class=\"dataframe\">\n",
       "  <thead>\n",
       "    <tr style=\"text-align: right;\">\n",
       "      <th></th>\n",
       "      <th>palabras</th>\n",
       "      <th>0</th>\n",
       "      <th>1</th>\n",
       "      <th>2</th>\n",
       "      <th>3</th>\n",
       "      <th>4</th>\n",
       "      <th>5</th>\n",
       "      <th>6</th>\n",
       "      <th>7</th>\n",
       "      <th>8</th>\n",
       "      <th>total doc freq</th>\n",
       "    </tr>\n",
       "  </thead>\n",
       "  <tbody>\n",
       "    <tr>\n",
       "      <th>0</th>\n",
       "      <td>actividad</td>\n",
       "      <td>0.054000</td>\n",
       "      <td>0.000000</td>\n",
       "      <td>0.091410</td>\n",
       "      <td>0.098528</td>\n",
       "      <td>0.000000</td>\n",
       "      <td>0.000000</td>\n",
       "      <td>0.000000</td>\n",
       "      <td>0.059541</td>\n",
       "      <td>0.154457</td>\n",
       "      <td>5.0</td>\n",
       "    </tr>\n",
       "    <tr>\n",
       "      <th>1</th>\n",
       "      <td>adenosina</td>\n",
       "      <td>0.177784</td>\n",
       "      <td>0.207578</td>\n",
       "      <td>0.003934</td>\n",
       "      <td>0.072086</td>\n",
       "      <td>0.372933</td>\n",
       "      <td>0.000000</td>\n",
       "      <td>0.186078</td>\n",
       "      <td>0.014521</td>\n",
       "      <td>0.075336</td>\n",
       "      <td>8.0</td>\n",
       "    </tr>\n",
       "    <tr>\n",
       "      <th>2</th>\n",
       "      <td>cafe</td>\n",
       "      <td>0.571868</td>\n",
       "      <td>0.469480</td>\n",
       "      <td>0.017795</td>\n",
       "      <td>0.766272</td>\n",
       "      <td>0.051906</td>\n",
       "      <td>0.117144</td>\n",
       "      <td>0.012024</td>\n",
       "      <td>0.052546</td>\n",
       "      <td>0.647478</td>\n",
       "      <td>9.0</td>\n",
       "    </tr>\n",
       "    <tr>\n",
       "      <th>3</th>\n",
       "      <td>cafeina</td>\n",
       "      <td>0.643352</td>\n",
       "      <td>0.516428</td>\n",
       "      <td>0.067621</td>\n",
       "      <td>0.358681</td>\n",
       "      <td>0.700725</td>\n",
       "      <td>0.890295</td>\n",
       "      <td>0.841705</td>\n",
       "      <td>0.197047</td>\n",
       "      <td>0.391894</td>\n",
       "      <td>9.0</td>\n",
       "    </tr>\n",
       "    <tr>\n",
       "      <th>4</th>\n",
       "      <td>cerebral</td>\n",
       "      <td>0.109293</td>\n",
       "      <td>0.000000</td>\n",
       "      <td>0.030472</td>\n",
       "      <td>0.039883</td>\n",
       "      <td>0.063488</td>\n",
       "      <td>0.000000</td>\n",
       "      <td>0.058830</td>\n",
       "      <td>0.016068</td>\n",
       "      <td>0.041682</td>\n",
       "      <td>7.0</td>\n",
       "    </tr>\n",
       "  </tbody>\n",
       "</table>\n",
       "</div>"
      ],
      "text/plain": [
       "    palabras         0         1         2         3         4         5  \\\n",
       "0  actividad  0.054000  0.000000  0.091410  0.098528  0.000000  0.000000   \n",
       "1  adenosina  0.177784  0.207578  0.003934  0.072086  0.372933  0.000000   \n",
       "2       cafe  0.571868  0.469480  0.017795  0.766272  0.051906  0.117144   \n",
       "3    cafeina  0.643352  0.516428  0.067621  0.358681  0.700725  0.890295   \n",
       "4   cerebral  0.109293  0.000000  0.030472  0.039883  0.063488  0.000000   \n",
       "\n",
       "          6         7         8  total doc freq  \n",
       "0  0.000000  0.059541  0.154457             5.0  \n",
       "1  0.186078  0.014521  0.075336             8.0  \n",
       "2  0.012024  0.052546  0.647478             9.0  \n",
       "3  0.841705  0.197047  0.391894             9.0  \n",
       "4  0.058830  0.016068  0.041682             7.0  "
      ]
     },
     "execution_count": 22,
     "metadata": {},
     "output_type": "execute_result"
    }
   ],
   "source": [
    "# guardar la matriz\n",
    "guardar_df_como_csv(tfidf_cafeina,'tfidfCafeina')\n",
    "# cargarla y mostrar en pantalla las primeras filas\n",
    "csv_a_df(\"results/matrices/tfidfCafeina.csv\").head()"
   ]
  },
  {
   "cell_type": "markdown",
   "metadata": {},
   "source": [
    "## 5.- Obtener palabras relevantes"
   ]
  },
  {
   "cell_type": "code",
   "execution_count": 25,
   "metadata": {},
   "outputs": [
    {
     "data": {
      "text/plain": [
       "'actividad adenosina cafe cafeina cerebral cerebro configuracion'"
      ]
     },
     "execution_count": 25,
     "metadata": {},
     "output_type": "execute_result"
    }
   ],
   "source": [
    "palabras_rel_consulta_cafeina = top_n_palabras_rel_tdidf(tfidf=tfidf_cafeina, n=7)\n",
    "palabras_rel_consulta_cafeina"
   ]
  },
  {
   "cell_type": "code",
   "execution_count": 26,
   "metadata": {},
   "outputs": [
    {
     "data": {
      "text/plain": [
       "'actividad adenosina cafe cafeina cerebral cerebro configuracion'"
      ]
     },
     "execution_count": 26,
     "metadata": {},
     "output_type": "execute_result"
    }
   ],
   "source": [
    "# guardar las palabras relevantes\n",
    "guardar_string_como_txt(palabras_rel_consulta_cafeina, \"results/palabras_rel/palabrasRelCafeina.txt\")\n",
    "txt_a_string(\"results/palabras_rel/palabrasRelCafeina.txt\")"
   ]
  }
 ],
 "metadata": {
  "kernelspec": {
   "display_name": "Python 3",
   "language": "python",
   "name": "python3"
  },
  "language_info": {
   "codemirror_mode": {
    "name": "ipython",
    "version": 3
   },
   "file_extension": ".py",
   "mimetype": "text/x-python",
   "name": "python",
   "nbconvert_exporter": "python",
   "pygments_lexer": "ipython3",
   "version": "3.12.1"
  }
 },
 "nbformat": 4,
 "nbformat_minor": 2
}
